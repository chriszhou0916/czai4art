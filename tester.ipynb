{
 "cells": [
  {
   "cell_type": "code",
   "execution_count": 1,
   "metadata": {},
   "outputs": [
    {
     "name": "stdout",
     "output_type": "stream",
     "text": [
      "2.0.0\n"
     ]
    }
   ],
   "source": [
    "import tensorflow as tf\n",
    "print(tf.__version__)"
   ]
  },
  {
   "cell_type": "code",
   "execution_count": 4,
   "metadata": {},
   "outputs": [],
   "source": [
    "import pathlib\n",
    "data_dir = 'nebula'\n",
    "data_dir = pathlib.Path(data_dir)\n",
    "\n",
    "list_ds = tf.data.Dataset.list_files(str(data_dir/'*/*'))"
   ]
  },
  {
   "cell_type": "code",
   "execution_count": 7,
   "metadata": {},
   "outputs": [
    {
     "name": "stdout",
     "output_type": "stream",
     "text": [
      "b'nebula/nebula/193.nebula-cone.jpg'\n",
      "b'nebula/nebula/86.orion-nebula-sweden-jan2017-sq.jpg'\n",
      "b'nebula/nebula/40.north-america-nebula-shape.jpg'\n",
      "b'nebula/nebula/87.768px-Orion_Nebula_-_Hubble_2006_mosaic_18000.jpg'\n",
      "b'nebula/nebula/174.0*7-JL4LVFzEGdLQAs.jpg'\n"
     ]
    }
   ],
   "source": [
    "for f in list_ds.take(5):\n",
    "  print(f.numpy())"
   ]
  },
  {
   "cell_type": "code",
   "execution_count": 11,
   "metadata": {},
   "outputs": [],
   "source": [
    "IMG_HEIGHT = 256\n",
    "IMG_WIDTH = 256\n",
    "BUFFER_SIZE = 1000\n",
    "BATCH_SIZE = 1\n",
    "def random_crop(image):\n",
    "  cropped_image = tf.image.random_crop(\n",
    "      image, size=[IMG_HEIGHT, IMG_WIDTH, 3])\n",
    "\n",
    "  return cropped_image\n",
    "def decode_img(img):\n",
    "  # convert the compressed string to a 3D uint8 tensor\n",
    "  img = tf.image.decode_jpeg(img, channels=3)\n",
    "  # Use `convert_image_dtype` to convert to floats in the [0,1] range.\n",
    "  img = tf.image.convert_image_dtype(img, tf.float32)\n",
    "  img = random_crop(img)\n",
    "#   img = tf.image.resize(img, [IMG_HEIGHT, IMG_WIDTH])\n",
    "  # resize the image to the desired size.\n",
    "  return img\n",
    "def process_path(file_path):\n",
    "  # load the raw data from the file as a string\n",
    "  img = tf.io.read_file(file_path)\n",
    "  img = decode_img(img)\n",
    "  return img\n",
    "labeled_ds = list_ds.map(process_path, num_parallel_calls=tf.data.experimental.AUTOTUNE).cache().shuffle(\n",
    "        BUFFER_SIZE).repeat().batch(BATCH_SIZE).prefetch(2)"
   ]
  },
  {
   "cell_type": "code",
   "execution_count": 12,
   "metadata": {},
   "outputs": [
    {
     "data": {
      "text/plain": [
       "<tf.Tensor: id=94, shape=(256, 256, 3), dtype=float32, numpy=\n",
       "array([[[0.2901961 , 0.20392159, 0.45882356],\n",
       "        [0.2784314 , 0.16470589, 0.42352945],\n",
       "        [0.36078432, 0.21568629, 0.4784314 ],\n",
       "        ...,\n",
       "        [0.34117648, 0.6313726 , 0.7372549 ],\n",
       "        [0.09019608, 0.40000004, 0.5176471 ],\n",
       "        [0.07843138, 0.4039216 , 0.52156866]],\n",
       "\n",
       "       [[0.27450982, 0.15294118, 0.4156863 ],\n",
       "        [0.3647059 , 0.227451  , 0.49411768],\n",
       "        [0.48627454, 0.34117648, 0.6039216 ],\n",
       "        ...,\n",
       "        [0.1764706 , 0.47058827, 0.5921569 ],\n",
       "        [0.18431373, 0.5019608 , 0.61960787],\n",
       "        [0.1137255 , 0.43137258, 0.54901963]],\n",
       "\n",
       "       [[0.54509807, 0.34117648, 0.62352943],\n",
       "        [0.3921569 , 0.18823531, 0.47058827],\n",
       "        [0.40000004, 0.22352943, 0.49411768],\n",
       "        ...,\n",
       "        [0.12156864, 0.43137258, 0.5529412 ],\n",
       "        [0.18823531, 0.5137255 , 0.6392157 ],\n",
       "        [0.16078432, 0.47450984, 0.6039216 ]],\n",
       "\n",
       "       ...,\n",
       "\n",
       "       [[0.12941177, 0.18039216, 0.39607847],\n",
       "        [0.09803922, 0.14901961, 0.3529412 ],\n",
       "        [0.10588236, 0.16078432, 0.3372549 ],\n",
       "        ...,\n",
       "        [0.10588236, 0.02352941, 0.14509805],\n",
       "        [0.13333334, 0.05882353, 0.1764706 ],\n",
       "        [0.12156864, 0.05882353, 0.17254902]],\n",
       "\n",
       "       [[0.14117648, 0.16862746, 0.37254903],\n",
       "        [0.14509805, 0.1764706 , 0.36078432],\n",
       "        [0.11764707, 0.14509805, 0.3254902 ],\n",
       "        ...,\n",
       "        [0.09019608, 0.03921569, 0.14117648],\n",
       "        [0.17254902, 0.1137255 , 0.227451  ],\n",
       "        [0.14509805, 0.08627451, 0.20000002]],\n",
       "\n",
       "       [[0.13725491, 0.15294118, 0.34117648],\n",
       "        [0.12941177, 0.14117648, 0.31764707],\n",
       "        [0.12941177, 0.13333334, 0.30588236],\n",
       "        ...,\n",
       "        [0.07450981, 0.03529412, 0.13333334],\n",
       "        [0.10980393, 0.0509804 , 0.16470589],\n",
       "        [0.10980393, 0.0509804 , 0.16470589]]], dtype=float32)>"
      ]
     },
     "execution_count": 12,
     "metadata": {},
     "output_type": "execute_result"
    }
   ],
   "source": [
    "for x in labeled_ds: break\n",
    "x"
   ]
  },
  {
   "cell_type": "code",
   "execution_count": null,
   "metadata": {},
   "outputs": [],
   "source": []
  }
 ],
 "metadata": {
  "kernelspec": {
   "display_name": "Python 3",
   "language": "python",
   "name": "python3"
  },
  "language_info": {
   "codemirror_mode": {
    "name": "ipython",
    "version": 3
   },
   "file_extension": ".py",
   "mimetype": "text/x-python",
   "name": "python",
   "nbconvert_exporter": "python",
   "pygments_lexer": "ipython3",
   "version": "3.7.4"
  }
 },
 "nbformat": 4,
 "nbformat_minor": 4
}
